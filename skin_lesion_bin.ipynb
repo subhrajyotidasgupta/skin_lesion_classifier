{
 "cells": [
  {
   "attachments": {},
   "cell_type": "markdown",
   "metadata": {},
   "source": [
    "## Loading the required libraries"
   ]
  },
  {
   "cell_type": "code",
   "execution_count": 15,
   "metadata": {},
   "outputs": [],
   "source": [
    "import os\n",
    "import numpy as np\n",
    "import matplotlib.pyplot as plt\n",
    "import cv2\n",
    "import random\n",
    "\n",
    "import torch\n",
    "import torch.nn as nn\n",
    "import torch.optim as optim\n",
    "from torchvision import models, transforms, datasets\n",
    "from torch.utils.data import DataLoader, random_split\n",
    "\n",
    "from sklearn.preprocessing import MultiLabelBinarizer\n",
    "from sklearn.metrics import confusion_matrix, classification_report\n",
    "import seaborn as sns\n",
    "import pandas as pd\n",
    "\n",
    "device = torch.device(\"cuda\" if torch.cuda.is_available() else \"cpu\")"
   ]
  },
  {
   "attachments": {},
   "cell_type": "markdown",
   "metadata": {},
   "source": [
    "## Data Exploration\n",
    "\n",
    "We find after the split of data into 2 class(tumour and non-tumour), there is a big imbalance in the data. "
   ]
  },
  {
   "cell_type": "code",
   "execution_count": 12,
   "metadata": {},
   "outputs": [
    {
     "name": "stdout",
     "output_type": "stream",
     "text": [
      "[(24450, 'T'), (881, 'NT')]\n"
     ]
    },
    {
     "data": {
      "text/plain": [
       "<BarContainer object of 2 artists>"
      ]
     },
     "execution_count": 12,
     "metadata": {},
     "output_type": "execute_result"
    },
    {
     "data": {
      "image/png": "[encoded data removed]",
      "text/plain": [
       "<Figure size 640x480 with 1 Axes>"
      ]
     },
     "metadata": {},
     "output_type": "display_data"
    }
   ],
   "source": [
    "PATH_TO_DIR = '/home/mila/s/subhrajyoti.dasgupta/skin_lesion/binary_data/'\n",
    "\n",
    "freq = [(len(os.listdir(PATH_TO_DIR + dir)), dir) \\\n",
    "        for dir in os.listdir(PATH_TO_DIR) \\\n",
    "        if '.' not in dir]\n",
    "print(freq)\n",
    "plt.bar([f[1] for f in freq], [f[0] for f in freq])"
   ]
  },
  {
   "attachments": {},
   "cell_type": "markdown",
   "metadata": {},
   "source": [
    "## Defining transformations and setting the DataLoaders\n",
    "\n",
    "[NOTE] - As in a standard practice, for normalization, we have used the mean and std deviation of the Imagenet dataset."
   ]
  },
  {
   "cell_type": "code",
   "execution_count": 13,
   "metadata": {},
   "outputs": [],
   "source": [
    "# transform the image size to 255 by 255 and then center crop\n",
    "transform = transforms.Compose([\n",
    "      transforms.Resize(255),\n",
    "      transforms.CenterCrop(224),\n",
    "      transforms.ToTensor(),\n",
    "      transforms.Normalize([0.485, 0.456, 0.406],\n",
    "                           [0.229, 0.224, 0.225])])\n",
    "\n",
    "# load train/valid/test set using ImageFolder \n",
    "dataset = datasets.ImageFolder(root=PATH_TO_DIR, transform=transform)\n",
    "\n",
    "# Split the dataset into train, validation, and test sets\n",
    "total_size = len(dataset)\n",
    "train_size = int(0.95 * total_size)  # 95% for training\n",
    "test_size = total_size - train_size  # rest for testing\n",
    "\n",
    "train_dataset, test_dataset = random_split(dataset, [train_size, test_size])\n",
    "\n",
    "# Create data loaders for train, validation, and test sets\n",
    "train_loader = DataLoader(train_dataset, batch_size=32, shuffle=True)\n",
    "# val_loader = DataLoader(val_dataset, batch_size=32)\n",
    "test_loader = DataLoader(test_dataset, batch_size=1)"
   ]
  },
  {
   "cell_type": "code",
   "execution_count": 17,
   "metadata": {},
   "outputs": [
    {
     "data": {
      "text/plain": [
       "['NT', 'T']"
      ]
     },
     "execution_count": 17,
     "metadata": {},
     "output_type": "execute_result"
    }
   ],
   "source": [
    "dataset.classes"
   ]
  },
  {
   "attachments": {},
   "cell_type": "markdown",
   "metadata": {},
   "source": [
    "## Loading the pre-trained model\n",
    "\n",
    "- We are using the pre-trained VGG-16 model here mainly because of the comparatively lesser complexity it has. It is very widely used as a feature extractor and using a more complex model in such an imbalance setting may lead to overfitting."
   ]
  },
  {
   "cell_type": "code",
   "execution_count": 48,
   "metadata": {},
   "outputs": [
    {
     "name": "stderr",
     "output_type": "stream",
     "text": [
      "The parameter 'pretrained' is deprecated since 0.13 and may be removed in the future, please use 'weights' instead.\n",
      "Arguments other than a weight enum or `None` for 'weights' are deprecated since 0.13 and may be removed in the future. The current behavior is equivalent to passing `weights=VGG16_Weights.IMAGENET1K_V1`. You can also use `weights=VGG16_Weights.DEFAULT` to get the most up-to-date weights.\n"
     ]
    }
   ],
   "source": [
    "# Load pretrained VGG16 model\n",
    "vgg16 = models.vgg16(pretrained=True)\n",
    "\n",
    "# Freeze convolutional layers to keep the pretrained weights\n",
    "for param in vgg16.features.parameters():\n",
    "    param.requires_grad = False\n",
    "\n",
    "# Modify the classifier to match the number of classes in your dataset\n",
    "num_classes = len(dataset.classes)\n",
    "vgg16.classifier[-1] = nn.Linear(vgg16.classifier[-1].in_features, num_classes)\n",
    "\n",
    "# Define loss criterion and optimizer\n",
    "criterion = nn.CrossEntropyLoss()\n",
    "# specify optimizer (stochastic gradient descent) and learning rate\n",
    "optimizer = optim.Adam(vgg16.parameters(), lr=1e-5)"
   ]
  },
  {
   "attachments": {},
   "cell_type": "markdown",
   "metadata": {},
   "source": [
    "### Finetuning the model"
   ]
  },
  {
   "cell_type": "code",
   "execution_count": 49,
   "metadata": {},
   "outputs": [
    {
     "name": "stdout",
     "output_type": "stream",
     "text": [
      "Epoch 1/5, Loss: 0.1367481955341955\n",
      "Epoch 2/5, Loss: 0.10029026027087697\n",
      "Epoch 3/5, Loss: 0.07822481699955422\n",
      "Epoch 4/5, Loss: 0.05609915630261542\n",
      "Epoch 5/5, Loss: 0.036432454861224345\n"
     ]
    }
   ],
   "source": [
    "# Train the model\n",
    "num_epochs = 5\n",
    "device = torch.device(\"cuda\" if torch.cuda.is_available() else \"cpu\")\n",
    "vgg16.to(device)\n",
    "\n",
    "for epoch in range(num_epochs):\n",
    "    vgg16.train()\n",
    "    running_loss = 0.0\n",
    "    # count = 0\n",
    "    for inputs, labels in train_loader:\n",
    "        # if count > 2:\n",
    "        #   break\n",
    "        inputs, labels = inputs.to(device), labels.to(device)\n",
    "        optimizer.zero_grad()\n",
    "        outputs = vgg16(inputs)\n",
    "        loss = criterion(outputs, labels)\n",
    "        loss.backward()\n",
    "        optimizer.step()\n",
    "        running_loss += loss.item()\n",
    "        # count+=1\n",
    "    print(f\"Epoch {epoch+1}/{num_epochs}, Loss: {running_loss/len(train_loader)}\")"
   ]
  },
  {
   "attachments": {},
   "cell_type": "markdown",
   "metadata": {},
   "source": [
    "### Model Evaluation\n",
    "\n",
    "- All the tests have been done on a separated out test set. \n",
    "- The classification report highlights some of the main performance metrics. Here, `0 = 'NT'` class and `1 = 'T'` class.\n",
    "- The recall of `T` class refers to the sensitivity and that of the `NT` class refers to the specificity.\n",
    "- We have also reported the confusion matrix at the end."
   ]
  },
  {
   "cell_type": "code",
   "execution_count": 50,
   "metadata": {},
   "outputs": [],
   "source": [
    "# Testing\n",
    "correct = 0\n",
    "total = 0\n",
    "y_predicted = []\n",
    "y_label = []\n",
    "with torch.no_grad():\n",
    "    for inputs, labels in test_loader:\n",
    "        inputs, labels = inputs.to(device), labels.to(device)\n",
    "        outputs = vgg16(inputs)\n",
    "        _, predicted = torch.max(outputs.data, 1)\n",
    "        # predicted.append(torch.max(outputs.data, 1)[1])\n",
    "        total += labels.size(0)\n",
    "        correct += (predicted == labels).sum().item()\n",
    "        y_predicted.extend(predicted.cpu().numpy())\n",
    "        y_label.extend(labels.cpu().numpy())"
   ]
  },
  {
   "cell_type": "code",
   "execution_count": 51,
   "metadata": {},
   "outputs": [
    {
     "name": "stdout",
     "output_type": "stream",
     "text": [
      "Test Accuracy: 95.89581689029202%\n",
      "\n",
      "############ CLASSIFICATION REPORT ############\n",
      "              precision    recall  f1-score   support\n",
      "\n",
      "           0       0.76      0.21      0.33        61\n",
      "           1       0.96      1.00      0.98      1206\n",
      "\n",
      "    accuracy                           0.96      1267\n",
      "   macro avg       0.86      0.60      0.66      1267\n",
      "weighted avg       0.95      0.96      0.95      1267\n",
      "\n"
     ]
    },
    {
     "data": {
      "image/png": "[encoded data removed]",
      "text/plain": [
       "<Figure size 640x480 with 2 Axes>"
      ]
     },
     "metadata": {},
     "output_type": "display_data"
    }
   ],
   "source": [
    "print(f\"Test Accuracy: {100 * correct / total}%\\n\")\n",
    "\n",
    "print('############ CLASSIFICATION REPORT ############')\n",
    "print(classification_report(y_label,y_predicted))\n",
    "\n",
    "\n",
    "confusion_matrix_df = pd.DataFrame(confusion_matrix(y_label, y_predicted))\n",
    "ax = plt.axes()\n",
    "sns.heatmap(confusion_matrix_df, annot=True, ax=ax)\n",
    "\n",
    "ax.set_title('Confusion Matrix')\n",
    "plt.show()"
   ]
  },
  {
   "attachments": {},
   "cell_type": "markdown",
   "metadata": {},
   "source": [
    "### Discussion:\n",
    "\n",
    "As we observe, using the standard CNN architecture with the cross-entropy loss does not fetch good results because of the large data imbalance problem. Thus, to make the model aware of the number of data samples, following below we experiment using a weighted loss strategy based on the class distributions."
   ]
  },
  {
   "attachments": {},
   "cell_type": "markdown",
   "metadata": {},
   "source": [
    "## Using class weighted loss \n",
    "Here, we use a class-weighted loss strategy to counter the class imbalance problem. By the strategy, we weight the loss by a ratio based on the no. of samples present in each class. Thus, if the model wrongly predicts on the smaller class, then it gets penalized more."
   ]
  },
  {
   "cell_type": "code",
   "execution_count": 37,
   "metadata": {},
   "outputs": [
    {
     "name": "stderr",
     "output_type": "stream",
     "text": [
      "/home/mila/s/subhrajyoti.dasgupta/.conda/envs/quick_recipe/lib/python3.9/site-packages/torchvision/models/_utils.py:208: UserWarning: The parameter 'pretrained' is deprecated since 0.13 and may be removed in the future, please use 'weights' instead.\n",
      "  warnings.warn(\n",
      "/home/mila/s/subhrajyoti.dasgupta/.conda/envs/quick_recipe/lib/python3.9/site-packages/torchvision/models/_utils.py:223: UserWarning: Arguments other than a weight enum or `None` for 'weights' are deprecated since 0.13 and may be removed in the future. The current behavior is equivalent to passing `weights=VGG16_Weights.IMAGENET1K_V1`. You can also use `weights=VGG16_Weights.DEFAULT` to get the most up-to-date weights.\n",
      "  warnings.warn(msg)\n"
     ]
    }
   ],
   "source": [
    "# Load pretrained VGG16 model\n",
    "vgg16 = models.vgg16(pretrained=True)\n",
    "\n",
    "# Freeze convolutional layers to keep the pretrained weights\n",
    "for param in vgg16.features.parameters():\n",
    "    param.requires_grad = False\n",
    "\n",
    "# Modify the classifier to match the number of classes in your dataset\n",
    "num_classes = len(dataset.classes)\n",
    "vgg16.classifier[-1] = nn.Linear(vgg16.classifier[-1].in_features, num_classes)\n",
    "\n",
    "# Sample counts\n",
    "t_samples = 24450\n",
    "nt_samples = 7985\n",
    "\n",
    "# Calculate class weights\n",
    "class_weights = [t_samples / nt_samples, nt_samples / t_samples]\n",
    "class_weights = torch.tensor(class_weights, dtype=torch.float).to(device)  # Move to device (cuda or cpu)\n",
    "\n",
    "# Define loss criterion and optimizer\n",
    "criterion = nn.CrossEntropyLoss(weight=class_weights)\n",
    "# specify optimizer (stochastic gradient descent) and learning rate\n",
    "optimizer = optim.Adam(vgg16.parameters(), lr=1e-5)"
   ]
  },
  {
   "cell_type": "code",
   "execution_count": 38,
   "metadata": {},
   "outputs": [
    {
     "name": "stdout",
     "output_type": "stream",
     "text": [
      "VGG(\n",
      "  (features): Sequential(\n",
      "    (0): Conv2d(3, 64, kernel_size=(3, 3), stride=(1, 1), padding=(1, 1))\n",
      "    (1): ReLU(inplace=True)\n",
      "    (2): Conv2d(64, 64, kernel_size=(3, 3), stride=(1, 1), padding=(1, 1))\n",
      "    (3): ReLU(inplace=True)\n",
      "    (4): MaxPool2d(kernel_size=2, stride=2, padding=0, dilation=1, ceil_mode=False)\n",
      "    (5): Conv2d(64, 128, kernel_size=(3, 3), stride=(1, 1), padding=(1, 1))\n",
      "    (6): ReLU(inplace=True)\n",
      "    (7): Conv2d(128, 128, kernel_size=(3, 3), stride=(1, 1), padding=(1, 1))\n",
      "    (8): ReLU(inplace=True)\n",
      "    (9): MaxPool2d(kernel_size=2, stride=2, padding=0, dilation=1, ceil_mode=False)\n",
      "    (10): Conv2d(128, 256, kernel_size=(3, 3), stride=(1, 1), padding=(1, 1))\n",
      "    (11): ReLU(inplace=True)\n",
      "    (12): Conv2d(256, 256, kernel_size=(3, 3), stride=(1, 1), padding=(1, 1))\n",
      "    (13): ReLU(inplace=True)\n",
      "    (14): Conv2d(256, 256, kernel_size=(3, 3), stride=(1, 1), padding=(1, 1))\n",
      "    (15): ReLU(inplace=True)\n",
      "    (16): MaxPool2d(kernel_size=2, stride=2, padding=0, dilation=1, ceil_mode=False)\n",
      "    (17): Conv2d(256, 512, kernel_size=(3, 3), stride=(1, 1), padding=(1, 1))\n",
      "    (18): ReLU(inplace=True)\n",
      "    (19): Conv2d(512, 512, kernel_size=(3, 3), stride=(1, 1), padding=(1, 1))\n",
      "    (20): ReLU(inplace=True)\n",
      "    (21): Conv2d(512, 512, kernel_size=(3, 3), stride=(1, 1), padding=(1, 1))\n",
      "    (22): ReLU(inplace=True)\n",
      "    (23): MaxPool2d(kernel_size=2, stride=2, padding=0, dilation=1, ceil_mode=False)\n",
      "    (24): Conv2d(512, 512, kernel_size=(3, 3), stride=(1, 1), padding=(1, 1))\n",
      "    (25): ReLU(inplace=True)\n",
      "    (26): Conv2d(512, 512, kernel_size=(3, 3), stride=(1, 1), padding=(1, 1))\n",
      "    (27): ReLU(inplace=True)\n",
      "    (28): Conv2d(512, 512, kernel_size=(3, 3), stride=(1, 1), padding=(1, 1))\n",
      "    (29): ReLU(inplace=True)\n",
      "    (30): MaxPool2d(kernel_size=2, stride=2, padding=0, dilation=1, ceil_mode=False)\n",
      "  )\n",
      "  (avgpool): AdaptiveAvgPool2d(output_size=(7, 7))\n",
      "  (classifier): Sequential(\n",
      "    (0): Linear(in_features=25088, out_features=4096, bias=True)\n",
      "    (1): ReLU(inplace=True)\n",
      "    (2): Dropout(p=0.5, inplace=False)\n",
      "    (3): Linear(in_features=4096, out_features=4096, bias=True)\n",
      "    (4): ReLU(inplace=True)\n",
      "    (5): Dropout(p=0.5, inplace=False)\n",
      "    (6): Linear(in_features=4096, out_features=2, bias=True)\n",
      "  )\n",
      ")\n"
     ]
    }
   ],
   "source": [
    "print(vgg16)"
   ]
  },
  {
   "cell_type": "code",
   "execution_count": 40,
   "metadata": {},
   "outputs": [
    {
     "name": "stdout",
     "output_type": "stream",
     "text": [
      "Epoch 1/5, Loss: 0.31327964350125415\n",
      "Epoch 2/5, Loss: 0.24078167478326074\n",
      "Epoch 3/5, Loss: 0.1747114879458132\n",
      "Epoch 4/5, Loss: 0.11354769900951416\n",
      "Epoch 5/5, Loss: 0.07988803027577926\n"
     ]
    }
   ],
   "source": [
    "# Train the model\n",
    "num_epochs = 5\n",
    "device = torch.device(\"cuda\" if torch.cuda.is_available() else \"cpu\")\n",
    "vgg16.to(device)\n",
    "\n",
    "for epoch in range(num_epochs):\n",
    "    vgg16.train()\n",
    "    running_loss = 0.0\n",
    "    # count = 0\n",
    "    for inputs, labels in train_loader:\n",
    "        # if count > 2:\n",
    "        #   break\n",
    "        inputs, labels = inputs.to(device), labels.to(device)\n",
    "        optimizer.zero_grad()\n",
    "        outputs = vgg16(inputs)\n",
    "        loss = criterion(outputs, labels)\n",
    "        loss.backward()\n",
    "        optimizer.step()\n",
    "        running_loss += loss.item()\n",
    "        # count+=1\n",
    "    print(f\"Epoch {epoch+1}/{num_epochs}, Loss: {running_loss/len(train_loader)}\")"
   ]
  },
  {
   "attachments": {},
   "cell_type": "markdown",
   "metadata": {},
   "source": [
    "### Saving the model"
   ]
  },
  {
   "cell_type": "code",
   "execution_count": 41,
   "metadata": {},
   "outputs": [],
   "source": [
    "# Saving the model\n",
    "PATH = '/home/mila/s/subhrajyoti.dasgupta/skin_lesion/models/'\n",
    "if not os.path.exists(PATH + 'binary/'):\n",
    "    os.mkdir(PATH + 'binary/')\n",
    "    \n",
    "torch.save(vgg16, PATH + 'multiclass/vgg16_finetuned_binary_min_oversampled_et.PTH')"
   ]
  },
  {
   "attachments": {},
   "cell_type": "markdown",
   "metadata": {},
   "source": [
    "### Model Evaluation"
   ]
  },
  {
   "cell_type": "code",
   "execution_count": 42,
   "metadata": {},
   "outputs": [],
   "source": [
    "# Testing\n",
    "correct = 0\n",
    "total = 0\n",
    "y_predicted = []\n",
    "y_label = []\n",
    "with torch.no_grad():\n",
    "    for inputs, labels in test_loader:\n",
    "        inputs, labels = inputs.to(device), labels.to(device)\n",
    "        outputs = vgg16(inputs)\n",
    "        _, predicted = torch.max(outputs.data, 1)\n",
    "        # predicted.append(torch.max(outputs.data, 1)[1])\n",
    "        total += labels.size(0)\n",
    "        correct += (predicted == labels).sum().item()\n",
    "        y_predicted.extend(predicted.cpu().numpy())\n",
    "        y_label.extend(labels.cpu().numpy())"
   ]
  },
  {
   "cell_type": "code",
   "execution_count": 43,
   "metadata": {},
   "outputs": [
    {
     "name": "stdout",
     "output_type": "stream",
     "text": [
      "Test Accuracy: 94.94869771112864%\n",
      "\n",
      "############ CLASSIFICATION REPORT ############\n",
      "              precision    recall  f1-score   support\n",
      "\n",
      "           0       0.47      0.44      0.46        61\n",
      "           1       0.97      0.98      0.97      1206\n",
      "\n",
      "    accuracy                           0.95      1267\n",
      "   macro avg       0.72      0.71      0.72      1267\n",
      "weighted avg       0.95      0.95      0.95      1267\n",
      "\n"
     ]
    },
    {
     "data": {
      "image/png": "[encoded data removed]",
      "text/plain": [
       "<Figure size 640x480 with 2 Axes>"
      ]
     },
     "metadata": {},
     "output_type": "display_data"
    }
   ],
   "source": [
    "print(f\"Test Accuracy: {100 * correct / total}%\\n\")\n",
    "\n",
    "print('############ CLASSIFICATION REPORT ############')\n",
    "print(classification_report(y_label,y_predicted))\n",
    "\n",
    "\n",
    "confusion_matrix_df = pd.DataFrame(confusion_matrix(y_label, y_predicted))\n",
    "ax = plt.axes()\n",
    "sns.heatmap(confusion_matrix_df, annot=True, ax=ax)\n",
    "\n",
    "ax.set_title('Confusion Matrix')\n",
    "plt.show()"
   ]
  },
  {
   "attachments": {},
   "cell_type": "markdown",
   "metadata": {},
   "source": [
    "### Discussion\n",
    "As can be seen, there is an improvement in the performance of the model when we use the class-weighted strategy. The F1 score of the `NT` class improves by ~13%.\n",
    "\n",
    "In another experiment, we also try oversampling the minority class to train the model."
   ]
  },
  {
   "cell_type": "code",
   "execution_count": null,
   "metadata": {},
   "outputs": [],
   "source": []
  }
 ],
 "metadata": {
  "kernelspec": {
   "display_name": "quick_recipe",
   "language": "python",
   "name": "python3"
  },
  "language_info": {
   "codemirror_mode": {
    "name": "ipython",
    "version": 3
   },
   "file_extension": ".py",
   "mimetype": "text/x-python",
   "name": "python",
   "nbconvert_exporter": "python",
   "pygments_lexer": "ipython3",
   "version": "3.9.12"
  },
  "orig_nbformat": 4
 },
 "nbformat": 4,
 "nbformat_minor": 2
}
