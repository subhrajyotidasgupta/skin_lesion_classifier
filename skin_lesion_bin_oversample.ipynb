{
 "cells": [
  {
   "attachments": {},
   "cell_type": "markdown",
   "metadata": {},
   "source": [
    "## Loading the required libraries"
   ]
  },
  {
   "cell_type": "code",
   "execution_count": 1,
   "metadata": {},
   "outputs": [],
   "source": [
    "import os\n",
    "import numpy as np\n",
    "import matplotlib.pyplot as plt\n",
    "import cv2\n",
    "import random\n",
    "\n",
    "import torch\n",
    "import torch.nn as nn\n",
    "import torch.optim as optim\n",
    "from torchvision import models, transforms, datasets\n",
    "from torch.utils.data import DataLoader, random_split\n",
    "\n",
    "from sklearn.preprocessing import MultiLabelBinarizer\n",
    "from sklearn.metrics import confusion_matrix, classification_report\n",
    "import seaborn as sns\n",
    "import pandas as pd\n",
    "\n",
    "device = torch.device(\"cuda\" if torch.cuda.is_available() else \"cpu\")"
   ]
  },
  {
   "attachments": {},
   "cell_type": "markdown",
   "metadata": {},
   "source": [
    "## Data Exploration\n",
    "\n",
    "We find after the split of data into 2 class(tumour and non-tumour), there is a big imbalance in the data. "
   ]
  },
  {
   "cell_type": "code",
   "execution_count": 12,
   "metadata": {},
   "outputs": [
    {
     "name": "stdout",
     "output_type": "stream",
     "text": [
      "[(24450, 'T'), (881, 'NT')]\n"
     ]
    },
    {
     "data": {
      "text/plain": [
       "<BarContainer object of 2 artists>"
      ]
     },
     "execution_count": 12,
     "metadata": {},
     "output_type": "execute_result"
    },
    {
     "data": {
      "image/png": "[encoded data removed]",
      "text/plain": [
       "<Figure size 640x480 with 1 Axes>"
      ]
     },
     "metadata": {},
     "output_type": "display_data"
    }
   ],
   "source": [
    "PATH_TO_DIR = '/home/mila/s/subhrajyoti.dasgupta/skin_lesion/binary_data/'\n",
    "\n",
    "freq = [(len(os.listdir(PATH_TO_DIR + dir)), dir) \\\n",
    "        for dir in os.listdir(PATH_TO_DIR) \\\n",
    "        if '.' not in dir]\n",
    "print(freq)\n",
    "plt.bar([f[1] for f in freq], [f[0] for f in freq])"
   ]
  },
  {
   "attachments": {},
   "cell_type": "markdown",
   "metadata": {},
   "source": [
    "## Splitting data into separate train and test sets for oversampling"
   ]
  },
  {
   "cell_type": "code",
   "execution_count": 16,
   "metadata": {},
   "outputs": [
    {
     "name": "stdout",
     "output_type": "stream",
     "text": [
      "MEL (4069, 453)\n",
      "SCC (565, 63)\n",
      "VASC (227, 26)\n",
      "AK (780, 87)\n",
      "NV (11587, 1288)\n",
      "BKL (2361, 263)\n",
      "DF (215, 24)\n",
      "BCC (2990, 333)\n"
     ]
    }
   ],
   "source": [
    "import shutil\n",
    "\n",
    "PATH = '/home/mila/s/subhrajyoti.dasgupta/skin_lesion/skin_lesion_data/'\n",
    "\n",
    "for dir in os.listdir(PATH):\n",
    "    if '.' not in dir:\n",
    "        files = os.listdir(PATH + dir)\n",
    "        train_lst = files[:int(0.9*len(files))]\n",
    "        tst_lst = files[int(0.9*len(files)):]\n",
    "\n",
    "        print(dir, (len(train_lst), len(tst_lst)))\n",
    "\n",
    "        if dir == 'SCC' or dir == 'VASC':\n",
    "            for f in train_lst:\n",
    "                shutil.copy(PATH + dir + '/' + f, '/home/mila/s/subhrajyoti.dasgupta/skin_lesion/aug_binary_data/train/NT')\n",
    "            for f in tst_lst:\n",
    "                shutil.copy(PATH + dir + '/' + f, '/home/mila/s/subhrajyoti.dasgupta/skin_lesion/aug_binary_data/test/NT')\n",
    "        else:\n",
    "            for f in train_lst:\n",
    "                shutil.copy(PATH + dir + '/' + f, '/home/mila/s/subhrajyoti.dasgupta/skin_lesion/aug_binary_data/train/T')\n",
    "            for f in tst_lst:\n",
    "                shutil.copy(PATH + dir + '/' + f, '/home/mila/s/subhrajyoti.dasgupta/skin_lesion/aug_binary_data/test/T')"
   ]
  },
  {
   "attachments": {},
   "cell_type": "markdown",
   "metadata": {},
   "source": [
    "## Oversampling for minority class"
   ]
  },
  {
   "cell_type": "code",
   "execution_count": 24,
   "metadata": {},
   "outputs": [],
   "source": [
    "import cv2"
   ]
  },
  {
   "attachments": {},
   "cell_type": "markdown",
   "metadata": {},
   "source": [
    "For oversampling we are using the following techniques:\n",
    "- Rotation(0, 10, 350, 355 degrees)\n",
    "- Vertical flipping\n",
    "- Horizontal flipping\n",
    "- Translation\n",
    "- Adding Gaussian noise "
   ]
  },
  {
   "cell_type": "code",
   "execution_count": 17,
   "metadata": {},
   "outputs": [],
   "source": [
    "PATH = '/home/mila/s/subhrajyoti.dasgupta/skin_lesion/aug_binary_data/train/NT/'\n",
    "for im in os.listdir(PATH):\n",
    "    img = cv2.imread(PATH + im)\n",
    "\n",
    "    (rows, cols) = img.shape[:2] \n",
    "\n",
    "    M = cv2.getRotationMatrix2D((cols / 2, rows / 2), 5, 1) \n",
    "    res = cv2.warpAffine(img, M, (cols, rows), borderValue=(255,255,255)) \n",
    "    cv2.imwrite(PATH + im + '_1.jpg', res)\n",
    "\n",
    "    M = cv2.getRotationMatrix2D((cols / 2, rows / 2), 10, 1) \n",
    "    res = cv2.warpAffine(img, M, (cols, rows), borderValue=(255,255,255)) \n",
    "    cv2.imwrite(PATH + im + '_2.jpg', res)\n",
    "\n",
    "    M = cv2.getRotationMatrix2D((cols / 2, rows / 2), 350, 1) \n",
    "    res = cv2.warpAffine(img, M, (cols, rows), borderValue=(255,255,255)) \n",
    "    cv2.imwrite(PATH + im + '_3.jpg', res)\n",
    "\n",
    "    M = cv2.getRotationMatrix2D((cols / 2, rows / 2), 355, 1) \n",
    "    res = cv2.warpAffine(img, M, (cols, rows), borderValue=(255,255,255)) \n",
    "    cv2.imwrite(PATH + im + '_4.jpg', res)\n",
    "\n",
    "    res = cv2.flip(img, 0)\n",
    "    cv2.imwrite(PATH + im + '_5.jpg', res)\n",
    "\n",
    "    res = cv2.flip(img, 1)\n",
    "    cv2.imwrite(PATH + im + '_6.jpg', res)\n",
    "\n",
    "    quarter_height, quarter_width = rows / 4, cols / 4\n",
    "    T = np.float32([[1, 0, quarter_width], [0, 1, quarter_height]]) \n",
    "    res = cv2.warpAffine(img, T, (cols, rows)) \n",
    "    cv2.imwrite(PATH + im + '_7.jpg', res)\n",
    "\n",
    "    gauss_noise=np.zeros((rows,cols,3),dtype=np.uint8)\n",
    "    cv2.randn(gauss_noise,128,20)\n",
    "    gauss_noise=(gauss_noise*0.5).astype(np.uint8)\n",
    "    res=cv2.add(img,gauss_noise)\n",
    "    cv2.imwrite(PATH + im + '_8.jpg', res)"
   ]
  },
  {
   "attachments": {},
   "cell_type": "markdown",
   "metadata": {},
   "source": [
    "We increase the size of the dataset 8-fold."
   ]
  },
  {
   "cell_type": "code",
   "execution_count": 21,
   "metadata": {},
   "outputs": [
    {
     "name": "stdout",
     "output_type": "stream",
     "text": [
      "[(2448, 'T'), (89, 'NT'), (22002, 'T'), (7128, 'NT')]\n"
     ]
    },
    {
     "data": {
      "text/plain": [
       "<BarContainer object of 4 artists>"
      ]
     },
     "execution_count": 21,
     "metadata": {},
     "output_type": "execute_result"
    },
    {
     "data": {
      "image/png": "[encoded data removed]",
      "text/plain": [
       "<Figure size 640x480 with 1 Axes>"
      ]
     },
     "metadata": {},
     "output_type": "display_data"
    }
   ],
   "source": [
    "PATH_TO_DIR = '/home/mila/s/subhrajyoti.dasgupta/skin_lesion/aug_binary_data/'\n",
    "\n",
    "freq = [(len(os.listdir(PATH_TO_DIR + dir + '/' + subdir)), subdir) \\\n",
    "        for dir in os.listdir(PATH_TO_DIR) \\\n",
    "        for subdir in os.listdir(PATH_TO_DIR + dir + '/')\n",
    "        if '.' not in subdir]\n",
    "print(freq)\n",
    "plt.bar([f[1] for f in freq], [f[0] for f in freq])"
   ]
  },
  {
   "attachments": {},
   "cell_type": "markdown",
   "metadata": {},
   "source": [
    "## Defining transformations and setting the DataLoaders"
   ]
  },
  {
   "cell_type": "code",
   "execution_count": 25,
   "metadata": {},
   "outputs": [],
   "source": [
    "TRAIN_DIR = '/home/mila/s/subhrajyoti.dasgupta/skin_lesion/aug_binary_data/train'\n",
    "TEST_DIR = '/home/mila/s/subhrajyoti.dasgupta/skin_lesion/aug_binary_data/test'\n",
    "\n",
    "# transform the image size to 255 by 255 and then center crop\n",
    "transform = transforms.Compose([\n",
    "      transforms.Resize(255),\n",
    "      transforms.CenterCrop(224),\n",
    "      transforms.ToTensor(),\n",
    "      transforms.Normalize([0.485, 0.456, 0.406],\n",
    "                           [0.229, 0.224, 0.225])])\n",
    "\n",
    "# load train/valid/test set using ImageFolder \n",
    "train_dataset = datasets.ImageFolder(root=TRAIN_DIR, transform=transform)\n",
    "test_dataset = datasets.ImageFolder(root=TEST_DIR, transform=transform)\n",
    "\n",
    "\n",
    "# Create data loaders for train, validation, and test sets\n",
    "train_loader = DataLoader(train_dataset, batch_size=32, shuffle=True)\n",
    "test_loader = DataLoader(test_dataset, batch_size=32)"
   ]
  },
  {
   "attachments": {},
   "cell_type": "markdown",
   "metadata": {},
   "source": [
    "## Loading the pre-trained model\n",
    "\n",
    "- We are using the pre-trained VGG-16 model here mainly because of the comparatively lesser complexity it has. It is very widely used as a feature extractor and using a more complex model in such an imbalance setting may lead to overfitting.\n",
    "- Additionally, we keep the class-weighted strategy along with the oversampling here."
   ]
  },
  {
   "cell_type": "code",
   "execution_count": 26,
   "metadata": {},
   "outputs": [
    {
     "name": "stderr",
     "output_type": "stream",
     "text": [
      "/home/mila/s/subhrajyoti.dasgupta/.conda/envs/quick_recipe/lib/python3.9/site-packages/torchvision/models/_utils.py:208: UserWarning: The parameter 'pretrained' is deprecated since 0.13 and may be removed in the future, please use 'weights' instead.\n",
      "  warnings.warn(\n",
      "/home/mila/s/subhrajyoti.dasgupta/.conda/envs/quick_recipe/lib/python3.9/site-packages/torchvision/models/_utils.py:223: UserWarning: Arguments other than a weight enum or `None` for 'weights' are deprecated since 0.13 and may be removed in the future. The current behavior is equivalent to passing `weights=VGG16_Weights.IMAGENET1K_V1`. You can also use `weights=VGG16_Weights.DEFAULT` to get the most up-to-date weights.\n",
      "  warnings.warn(msg)\n"
     ]
    }
   ],
   "source": [
    "# Load pretrained VGG16 model\n",
    "vgg16 = models.vgg16(pretrained=True)\n",
    "\n",
    "# Freeze convolutional layers to keep the pretrained weights\n",
    "for param in vgg16.features.parameters():\n",
    "    param.requires_grad = False\n",
    "\n",
    "# Modify the classifier to match the number of classes in your dataset\n",
    "num_classes = len(dataset.classes)\n",
    "vgg16.classifier[-1] = nn.Linear(vgg16.classifier[-1].in_features, num_classes)\n",
    "\n",
    "# Sample counts\n",
    "t_samples = 22002\n",
    "nt_samples = 7128\n",
    "\n",
    "# # Calculate class weights\n",
    "class_weights = [t_samples / nt_samples, nt_samples / t_samples]\n",
    "class_weights = torch.tensor(class_weights, dtype=torch.float).to(device)  # Move to device (cuda or cpu)\n",
    "\n",
    "# Define loss criterion and optimizer\n",
    "criterion = nn.CrossEntropyLoss(weight=class_weights)\n",
    "# specify optimizer (stochastic gradient descent) and learning rate\n",
    "optimizer = optim.Adam(vgg16.parameters(), lr=1e-5)"
   ]
  },
  {
   "cell_type": "code",
   "execution_count": 27,
   "metadata": {},
   "outputs": [
    {
     "name": "stdout",
     "output_type": "stream",
     "text": [
      "VGG(\n",
      "  (features): Sequential(\n",
      "    (0): Conv2d(3, 64, kernel_size=(3, 3), stride=(1, 1), padding=(1, 1))\n",
      "    (1): ReLU(inplace=True)\n",
      "    (2): Conv2d(64, 64, kernel_size=(3, 3), stride=(1, 1), padding=(1, 1))\n",
      "    (3): ReLU(inplace=True)\n",
      "    (4): MaxPool2d(kernel_size=2, stride=2, padding=0, dilation=1, ceil_mode=False)\n",
      "    (5): Conv2d(64, 128, kernel_size=(3, 3), stride=(1, 1), padding=(1, 1))\n",
      "    (6): ReLU(inplace=True)\n",
      "    (7): Conv2d(128, 128, kernel_size=(3, 3), stride=(1, 1), padding=(1, 1))\n",
      "    (8): ReLU(inplace=True)\n",
      "    (9): MaxPool2d(kernel_size=2, stride=2, padding=0, dilation=1, ceil_mode=False)\n",
      "    (10): Conv2d(128, 256, kernel_size=(3, 3), stride=(1, 1), padding=(1, 1))\n",
      "    (11): ReLU(inplace=True)\n",
      "    (12): Conv2d(256, 256, kernel_size=(3, 3), stride=(1, 1), padding=(1, 1))\n",
      "    (13): ReLU(inplace=True)\n",
      "    (14): Conv2d(256, 256, kernel_size=(3, 3), stride=(1, 1), padding=(1, 1))\n",
      "    (15): ReLU(inplace=True)\n",
      "    (16): MaxPool2d(kernel_size=2, stride=2, padding=0, dilation=1, ceil_mode=False)\n",
      "    (17): Conv2d(256, 512, kernel_size=(3, 3), stride=(1, 1), padding=(1, 1))\n",
      "    (18): ReLU(inplace=True)\n",
      "    (19): Conv2d(512, 512, kernel_size=(3, 3), stride=(1, 1), padding=(1, 1))\n",
      "    (20): ReLU(inplace=True)\n",
      "    (21): Conv2d(512, 512, kernel_size=(3, 3), stride=(1, 1), padding=(1, 1))\n",
      "    (22): ReLU(inplace=True)\n",
      "    (23): MaxPool2d(kernel_size=2, stride=2, padding=0, dilation=1, ceil_mode=False)\n",
      "    (24): Conv2d(512, 512, kernel_size=(3, 3), stride=(1, 1), padding=(1, 1))\n",
      "    (25): ReLU(inplace=True)\n",
      "    (26): Conv2d(512, 512, kernel_size=(3, 3), stride=(1, 1), padding=(1, 1))\n",
      "    (27): ReLU(inplace=True)\n",
      "    (28): Conv2d(512, 512, kernel_size=(3, 3), stride=(1, 1), padding=(1, 1))\n",
      "    (29): ReLU(inplace=True)\n",
      "    (30): MaxPool2d(kernel_size=2, stride=2, padding=0, dilation=1, ceil_mode=False)\n",
      "  )\n",
      "  (avgpool): AdaptiveAvgPool2d(output_size=(7, 7))\n",
      "  (classifier): Sequential(\n",
      "    (0): Linear(in_features=25088, out_features=4096, bias=True)\n",
      "    (1): ReLU(inplace=True)\n",
      "    (2): Dropout(p=0.5, inplace=False)\n",
      "    (3): Linear(in_features=4096, out_features=4096, bias=True)\n",
      "    (4): ReLU(inplace=True)\n",
      "    (5): Dropout(p=0.5, inplace=False)\n",
      "    (6): Linear(in_features=4096, out_features=2, bias=True)\n",
      "  )\n",
      ")\n"
     ]
    }
   ],
   "source": [
    "print(vgg16)"
   ]
  },
  {
   "attachments": {},
   "cell_type": "markdown",
   "metadata": {},
   "source": [
    "### Fine-tuning the model"
   ]
  },
  {
   "cell_type": "code",
   "execution_count": 28,
   "metadata": {},
   "outputs": [
    {
     "name": "stdout",
     "output_type": "stream",
     "text": [
      "Epoch 1/5, Loss: 0.33030585669038326\n",
      "Epoch 2/5, Loss: 0.18381670879202144\n",
      "Epoch 3/5, Loss: 0.12129593867109321\n",
      "Epoch 4/5, Loss: 0.07670654510132535\n",
      "Epoch 5/5, Loss: 0.048088848538713126\n"
     ]
    }
   ],
   "source": [
    "# Train the model\n",
    "num_epochs = 5\n",
    "device = torch.device(\"cuda\" if torch.cuda.is_available() else \"cpu\")\n",
    "vgg16.to(device)\n",
    "\n",
    "for epoch in range(num_epochs):\n",
    "    vgg16.train()\n",
    "    running_loss = 0.0\n",
    "    # count = 0\n",
    "    for inputs, labels in train_loader:\n",
    "        # if count > 2:\n",
    "        #   break\n",
    "        inputs, labels = inputs.to(device), labels.to(device)\n",
    "        optimizer.zero_grad()\n",
    "        outputs = vgg16(inputs)\n",
    "        loss = criterion(outputs, labels)\n",
    "        loss.backward()\n",
    "        optimizer.step()\n",
    "        running_loss += loss.item()\n",
    "        # count+=1\n",
    "    print(f\"Epoch {epoch+1}/{num_epochs}, Loss: {running_loss/len(train_loader)}\")"
   ]
  },
  {
   "cell_type": "code",
   "execution_count": null,
   "metadata": {},
   "outputs": [],
   "source": [
    "PATH = '/home/mila/s/subhrajyoti.dasgupta/skin_lesion/models/'\n",
    "if not os.path.exists(PATH + 'binary/'):\n",
    "    os.mkdir(PATH + 'binary/')\n",
    "    \n",
    "torch.save(vgg16, PATH + 'binary/vgg16_finetuned_binary_min_oversampled_wt.PTH')"
   ]
  },
  {
   "attachments": {},
   "cell_type": "markdown",
   "metadata": {},
   "source": [
    "### Model evaluation\n",
    "\n",
    "- All the tests have been done on a separated out test set. \n",
    "- The classification report highlights some of the main performance metrics. Here, `0 = 'NT'` class and `1 = 'T'` class.\n",
    "- The recall of `T` class refers to the sensitivity and that of the `NT` class refers to the specificity.\n",
    "- We have also reported the confusion matrix at the end."
   ]
  },
  {
   "cell_type": "code",
   "execution_count": 29,
   "metadata": {},
   "outputs": [],
   "source": [
    "# Testing\n",
    "correct = 0\n",
    "total = 0\n",
    "y_predicted = []\n",
    "y_label = []\n",
    "with torch.no_grad():\n",
    "    for inputs, labels in test_loader:\n",
    "        inputs, labels = inputs.to(device), labels.to(device)\n",
    "        outputs = vgg16(inputs)\n",
    "        _, predicted = torch.max(outputs.data, 1)\n",
    "        # predicted.append(torch.max(outputs.data, 1)[1])\n",
    "        total += labels.size(0)\n",
    "        correct += (predicted == labels).sum().item()\n",
    "        y_predicted.extend(predicted.cpu().numpy())\n",
    "        y_label.extend(labels.cpu().numpy())"
   ]
  },
  {
   "cell_type": "code",
   "execution_count": 30,
   "metadata": {},
   "outputs": [
    {
     "name": "stdout",
     "output_type": "stream",
     "text": [
      "Test Accuracy: 93.73275522270399%\n",
      "\n",
      "############ CLASSIFICATION REPORT ############\n",
      "              precision    recall  f1-score   support\n",
      "\n",
      "           0       0.32      0.72      0.45        89\n",
      "           1       0.99      0.95      0.97      2448\n",
      "\n",
      "    accuracy                           0.94      2537\n",
      "   macro avg       0.66      0.83      0.71      2537\n",
      "weighted avg       0.97      0.94      0.95      2537\n",
      "\n"
     ]
    },
    {
     "data": {
      "image/png": "[encoded data removed]",
      "text/plain": [
       "<Figure size 640x480 with 2 Axes>"
      ]
     },
     "metadata": {},
     "output_type": "display_data"
    }
   ],
   "source": [
    "print(f\"Test Accuracy: {100 * correct / total}%\\n\")\n",
    "\n",
    "print('############ CLASSIFICATION REPORT ############')\n",
    "print(classification_report(y_label,y_predicted))\n",
    "\n",
    "\n",
    "confusion_matrix_df = pd.DataFrame(confusion_matrix(y_label, y_predicted))\n",
    "ax = plt.axes()\n",
    "sns.heatmap(confusion_matrix_df, annot=True, ax=ax)\n",
    "\n",
    "ax.set_title('Confusion Matrix')\n",
    "plt.show()"
   ]
  },
  {
   "attachments": {},
   "cell_type": "markdown",
   "metadata": {},
   "source": [
    "Thus, we find oversampling the data in this case did not lead to any significant improvement in the performance of the model.\n",
    "\n",
    "We believe, other strategies to deal with class imbalance might be a good approach in this case, for instance generating synthetic data or in fact undersampling the majority class."
   ]
  }
 ],
 "metadata": {
  "kernelspec": {
   "display_name": "quick_recipe",
   "language": "python",
   "name": "python3"
  },
  "language_info": {
   "codemirror_mode": {
    "name": "ipython",
    "version": 3
   },
   "file_extension": ".py",
   "mimetype": "text/x-python",
   "name": "python",
   "nbconvert_exporter": "python",
   "pygments_lexer": "ipython3",
   "version": "3.9.12"
  },
  "orig_nbformat": 4
 },
 "nbformat": 4,
 "nbformat_minor": 2
}
